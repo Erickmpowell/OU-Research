{
 "cells": [
  {
   "cell_type": "code",
   "execution_count": 1,
   "metadata": {
    "collapsed": true
   },
   "outputs": [],
   "source": [
    "import numpy as np\n",
    "import csv\n",
    "import os  \n",
    "import matplotlib.pyplot as plt\n",
    "%matplotlib inline\n"
   ]
  },
  {
   "cell_type": "code",
   "execution_count": 41,
   "metadata": {},
   "outputs": [],
   "source": [
    "with open('C:/Users/Erick/Desktop/OU REU/NGC663 Observations/20150120 - Blist.txt', \"r+\") as f:\n",
    "    for l in f:\n",
    "        B = l.strip().split(\"\\t\")"
   ]
  },
  {
   "cell_type": "code",
   "execution_count": 68,
   "metadata": {
    "scrolled": true
   },
   "outputs": [],
   "source": [
    "f=open('C:/Users/Erick/Desktop/OU REU/NGC663 Observations/20150120 - Blist.txt',\"r\")\n",
    "lines=f.readlines()\n",
    "x=[]\n",
    "y=[]\n",
    "for n in lines:\n",
    "    x.append(float(n.split()[0]))\n",
    "    y.append(float(n.split()[1]))\n",
    "#print (x)\n",
    "#print (y)\n",
    "f.close()"
   ]
  },
  {
   "cell_type": "code",
   "execution_count": 69,
   "metadata": {
    "collapsed": true
   },
   "outputs": [],
   "source": [
    "\n",
    "with open('C:/Users/Erick/Desktop/OU REU/20150120_Blist_xy_check.csv', 'w') as f:\n",
    "        writer = csv.writer(f, delimiter='\\t')\n",
    "        writer.writerows(zip(x,y))\n",
    "        \n",
    "        '/Users/schutte/research/20161019_Blist_xy.csv'"
   ]
  },
  {
   "cell_type": "code",
   "execution_count": 46,
   "metadata": {},
   "outputs": [
    {
     "name": "stdout",
     "output_type": "stream",
     "text": [
      "['20150120 - Blist.txt', '20150120 - Ilist.txt', '20150122 - Ulist.txt', '20150123 - Rlist.txt', '20150123 - Vlist.txt', '20151002 - Blist.txt', '20151002 - Ilist.txt', '20151002 - Rlist.txt', '20151002 - Vlist.txt', '20151003 - Blist.txt', '20151003 - Ilist.txt', '20151003 - Rlist.txt', '20151003 - Vlist.txt', '20151202 - Blist.txt', '20151202 - Ilist.txt', '20151202 - Rlist.txt', '20151202 - Vlist.txt', '20151205 - Blist.txt', '20160904 - Blist.txt', '20160904 - Ilist.txt', '20160904 - Rlist.txt', '20160904 - Vlist.txt', '20160906 - Blist.txt', '20160906 - Ilist.txt', '20160906 - Rlist.txt', '20160906 - Vlist.txt', '20161019 - Blist.txt', '20161019 - Ilist.txt', '20161019 - Rlist.txt', '20161019 - Vlist.txt', '20161021 - Blist.txt', '20161021 - Ilist.txt', '20161021 - Rlist.txt', '20161021 - Vlist.txt', '20161218 - Blist.txt', '20161218 - Ilist.txt', '20161218 - Rlist.txt', '20161218 - Vlist.txt', '20161219 - Blist.txt', '20161219 - Ilist.txt', '20161219 - Rlist.txt', '20161219 - Vlist.txt', '20170216 - Blist.txt', '20170216 - Ilist.txt', '20170216 - Rlist.txt', '20170216 - Vlist.txt', '20171029 - Blist.txt', '20171029 - Ilist.txt', '20171029 - Rlist.txt', '20171029 - Vlist.txt']\n"
     ]
    }
   ],
   "source": [
    "alldata = []\n",
    "for root, dirs, filenames in os.walk('C:/Users/Erick/Desktop/OU REU/NGC663 Observations/'):\n",
    "    for f in filenames:\n",
    "        alldata.append(f)\n",
    "    print(alldata)"
   ]
  },
  {
   "cell_type": "code",
   "execution_count": 40,
   "metadata": {},
   "outputs": [
    {
     "data": {
      "text/plain": [
       "'20150120_Blist_xy.csv'"
      ]
     },
     "execution_count": 40,
     "metadata": {},
     "output_type": "execute_result"
    }
   ],
   "source": [
    "alldata[0][:8]+'_'+alldata[0][11:16]+'_xy.csv'"
   ]
  },
  {
   "cell_type": "code",
   "execution_count": 67,
   "metadata": {
    "scrolled": true
   },
   "outputs": [],
   "source": [
    "for root, dirs, filenames in os.walk('C:/Users/Erick/Desktop/OU REU/NGC663 Observations/'):\n",
    "    for fn in filenames:\n",
    "\n",
    "        f=open(root+fn,\"r\")\n",
    "        lines=f.readlines()\n",
    "        x=[]\n",
    "        y=[]\n",
    "        for n in lines:\n",
    "            x.append(float(n.split()[0]))\n",
    "            y.append(float(n.split()[1]))\n",
    "        f.close()\n",
    "\n",
    "        with open('C:/Users/Erick/Desktop/OU REU/XY lists/'+fn[:8]+'_'+fn[11:16]+'_xy.csv', 'w') as fi:\n",
    "            writer = csv.writer(fi, delimiter='\\t')\n",
    "            writer.writerows(zip(x,y))"
   ]
  },
  {
   "cell_type": "code",
   "execution_count": null,
   "metadata": {
    "collapsed": true
   },
   "outputs": [],
   "source": []
  }
 ],
 "metadata": {
  "kernelspec": {
   "display_name": "Python 3",
   "language": "python",
   "name": "python3"
  },
  "language_info": {
   "codemirror_mode": {
    "name": "ipython",
    "version": 3
   },
   "file_extension": ".py",
   "mimetype": "text/x-python",
   "name": "python",
   "nbconvert_exporter": "python",
   "pygments_lexer": "ipython3",
   "version": "3.6.3"
  }
 },
 "nbformat": 4,
 "nbformat_minor": 2
}
