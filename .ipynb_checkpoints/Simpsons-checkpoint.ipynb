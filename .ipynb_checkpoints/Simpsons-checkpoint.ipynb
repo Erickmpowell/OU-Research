{
 "cells": [
  {
   "cell_type": "code",
   "execution_count": 47,
   "metadata": {
    "collapsed": true
   },
   "outputs": [],
   "source": [
    "import numpy as np\n",
    "\n",
    "##defining the functions i need for the rule\n",
    "def f(l,x):\n",
    "    if l == 'a':\n",
    "        v=x/(np.sqrt(x**2+9))\n",
    "    elif l== 'b':\n",
    "        v=x**(-1/3)\n",
    "    else:\n",
    "        v=(1/np.cos(x))**2\n",
    "    \n",
    "    return v\n",
    "\n",
    "\n",
    "#simpsons rule actual\n",
    "def simpsons(l, a, b, m):\n",
    "    \n",
    "    #creating a vector that has values of x0 to xm\n",
    "    xm= np.linspace(a,b,num=2*m+1, endpoint=True)\n",
    "    \n",
    "    ##2m because how we define our divisions\n",
    "    h=(b-a)/(2*m)\n",
    "    \n",
    "    #the value of our function at a and b\n",
    "    fa= f(l,a)\n",
    "    fb= f(l,b)\n",
    "    \n",
    "    #starting our sum at 0\n",
    "    f2=0\n",
    "    f4=0\n",
    "    \n",
    "    \n",
    "    #these loops do the sum of the program with 4 and 2\n",
    "    for x in range(1,m+1):\n",
    "        f4= f4+ 4*f(l,xm[2*x-1])\n",
    "    for x in range(1, m):\n",
    "        f2 = f2 + 2*f(l, xm[2*x])\n",
    "        \n",
    "    #this is the final addition of fa fb and the sums\n",
    "    final=(fa+fb+f2+f4)*h/3\n",
    "    return final"
   ]
  },
  {
   "cell_type": "code",
   "execution_count": 48,
   "metadata": {},
   "outputs": [
    {
     "name": "stdout",
     "output_type": "stream",
     "text": [
      "m NI            Em               Rm\n",
      "1 2.0125338566 0.0125338566006 7.31802579726\n",
      "2 2.00091286042 0.000912860421333 3.77929229693\n",
      "4 2.00004730437 4.73043662659e-05 4.27034902755\n",
      "8 2.00000285392 2.85391642096e-06 4.05095836252\n",
      "16 2.00000017695 1.76947122288e-07 4.0115528807\n",
      "32 2.00000001104 1.1037514458e-08 4.00283106647\n",
      "64 2.00000000069 6.89508006246e-10 4.00070421369\n",
      "m NI            Em               Rm\n",
      "1 4.57663203329 0.0766320332944 -26.7278050409\n",
      "2 4.51383989224 0.013839892243 2.46911487532\n",
      "4 4.50178176219 0.00178176219036 2.95745601017\n",
      "8 4.50016574107 0.000165741069797 3.42630175046\n",
      "16 4.50001223905 1.22390488793e-05 3.75936778657\n",
      "32 4.50000080741 8.07411734804e-07 3.92204308258\n",
      "64 4.50000005122 5.12190725388e-08 3.97855152054\n",
      "m NI            Em               Rm\n",
      "1 1.00613320471 0.0061332047058 -16.8696004493\n",
      "2 1.00054889527 0.000548895269644 3.48203829271\n",
      "4 1.00003916249 3.91624934906e-05 3.80898637637\n",
      "8 1.00000254514 2.545138855e-06 3.9436563522\n",
      "16 1.00000016072 1.60717529507e-07 3.98514516961\n",
      "32 1.00000001007 1.00711141648e-08 3.99623209048\n",
      "64 1.00000000063 6.29857055401e-10 3.99905503748\n"
     ]
    }
   ],
   "source": [
    "###these are needed so that the loops can iterate over them, chose error 1 arbitrarily\n",
    "m=[1,2,4,8,16,32,64]\n",
    "error=[2]\n",
    "x=0\n",
    "print(\"m NI            Em               Rm\")\n",
    "\n",
    "#loop for a, all other loops do the same thing just for each function\n",
    "for a in m:\n",
    "    #the value of the integral is my function\n",
    "    NI= simpsons('a',0,4,a)\n",
    "    \n",
    "    #the error is the actual value minus the NI\n",
    "    Em=np.abs(2-simpsons('a',0,4,a))\n",
    "    error.append(np.abs(2-simpsons('a',0,4,a)))\n",
    "    \n",
    "    #this is the log ratio you want\n",
    "    Rm= np.log(error[x]/error[x+1])/np.log(2)\n",
    "    print(a,NI,Em,Rm)\n",
    "    x=x+1\n",
    "\n",
    "    \n",
    "#same as before but the function is the b function and EI= 4.5    \n",
    "print(\"m NI            Em               Rm\")\n",
    "for a in m:\n",
    "    NI= simpsons('b',1,8,a)\n",
    "    Em=np.abs(4.5-simpsons('b',1,8,a))\n",
    "    error.append(np.abs(4.5-simpsons('b',1,8,a)))\n",
    "    Rm= np.log(error[x]/error[x+1])/np.log(2)\n",
    "    print(a,NI,Em,Rm)\n",
    "    x=x+1\n",
    "\n",
    "#same as before but c function and EI=1\n",
    "print(\"m NI            Em               Rm\")\n",
    "for a in m:\n",
    "    NI= simpsons('c',0,np.pi/4,a)\n",
    "    Em=np.abs(1-simpsons('c',0,np.pi/4,a))\n",
    "    error.append(np.abs(1-simpsons('c',0,np.pi/4,a)))\n",
    "    Rm= np.log(error[x]/error[x+1])/np.log(2)\n",
    "    print(a,NI,Em,Rm)\n",
    "    x=x+1\n",
    "\n",
    "    \n"
   ]
  },
  {
   "cell_type": "code",
   "execution_count": null,
   "metadata": {
    "collapsed": true
   },
   "outputs": [],
   "source": []
  }
 ],
 "metadata": {
  "kernelspec": {
   "display_name": "Python 3",
   "language": "python",
   "name": "python3"
  },
  "language_info": {
   "codemirror_mode": {
    "name": "ipython",
    "version": 3
   },
   "file_extension": ".py",
   "mimetype": "text/x-python",
   "name": "python",
   "nbconvert_exporter": "python",
   "pygments_lexer": "ipython3",
   "version": "3.6.3"
  }
 },
 "nbformat": 4,
 "nbformat_minor": 2
}
