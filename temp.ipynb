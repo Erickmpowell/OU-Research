{
 "cells": [
  {
   "cell_type": "code",
   "execution_count": 9,
   "metadata": {},
   "outputs": [
    {
     "name": "stdout",
     "output_type": "stream",
     "text": [
      "1\n",
      "[2, 'b']\n",
      "[[1, 'a1'], [2, 0], [5, 'c1']]\n"
     ]
    }
   ],
   "source": [
    "idOld= [[1,'a'],[2,'b'],[5,'c']]\n",
    "idNew=[[1,'a1'],[5,'c1']]\n",
    "\n",
    "for i in range(len(idOld)):\n",
    "    if idOld[i][0] != idNew[i][0]:\n",
    "        print(i) #at position printed (which will be i), we have our first mess-up\n",
    "        print(idOld[i]) #element at position i of first mess-up\n",
    "        v=[idOld[i][0],0]\n",
    "        idNew.insert(i,v)\n",
    "        \n",
    "print(idNew)"
   ]
  },
  {
   "cell_type": "code",
   "execution_count": null,
   "metadata": {
    "collapsed": true
   },
   "outputs": [],
   "source": []
  }
 ],
 "metadata": {
  "kernelspec": {
   "display_name": "Python 3",
   "language": "python",
   "name": "python3"
  },
  "language_info": {
   "codemirror_mode": {
    "name": "ipython",
    "version": 3
   },
   "file_extension": ".py",
   "mimetype": "text/x-python",
   "name": "python",
   "nbconvert_exporter": "python",
   "pygments_lexer": "ipython3",
   "version": "3.6.3"
  }
 },
 "nbformat": 4,
 "nbformat_minor": 2
}
